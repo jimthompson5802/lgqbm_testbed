{
 "cells": [
  {
   "cell_type": "code",
   "execution_count": 1,
   "metadata": {},
   "outputs": [
    {
     "name": "stdout",
     "output_type": "stream",
     "text": [
      "lightgbm version: 3.2.1\n"
     ]
    }
   ],
   "source": [
    "import pandas as pd\n",
    "import numpy as np\n",
    "from lightgbm import LGBMRegressor, Booster\n",
    "import lightgbm as lgb\n",
    "from sklearn.model_selection import train_test_split\n",
    "from sklearn.metrics import mean_squared_error, r2_score\n",
    "\n",
    "print(f\"lightgbm version: {lgb.__version__}\")"
   ]
  },
  {
   "cell_type": "code",
   "execution_count": 2,
   "metadata": {},
   "outputs": [],
   "source": [
    "\n",
    "# Load the data\n",
    "# Replace 'train.csv' and 'test.csv' with your actual file paths\n",
    "train_data = pd.read_csv('data/train.csv')\n",
    "test_data = pd.read_csv('data/test.csv')\n",
    "\n",
    "# Assuming 'target' is your target variable\n",
    "# Modify these according to your actual feature and target columns\n",
    "X = train_data.drop('target', axis=1)\n",
    "y = train_data['target']\n",
    "\n",
    "# Split training data into train and validation sets\n",
    "X_train, X_val, y_train, y_val = train_test_split(\n",
    "    X, y, test_size=0.2, random_state=42\n",
    ")\n"
   ]
  },
  {
   "cell_type": "code",
   "execution_count": null,
   "metadata": {},
   "outputs": [
    {
     "name": "stdout",
     "output_type": "stream",
     "text": [
      "[1]\tvalid_0's rmse: 146.933\tvalid_0's l2: 21589.4\n",
      "[2]\tvalid_0's rmse: 138.5\tvalid_0's l2: 19182.4\n",
      "[3]\tvalid_0's rmse: 131.029\tvalid_0's l2: 17168.5\n",
      "[4]\tvalid_0's rmse: 124.401\tvalid_0's l2: 15475.6\n",
      "[5]\tvalid_0's rmse: 118.509\tvalid_0's l2: 14044.3\n",
      "[6]\tvalid_0's rmse: 113.109\tvalid_0's l2: 12793.7\n",
      "[7]\tvalid_0's rmse: 108.017\tvalid_0's l2: 11667.7\n",
      "[8]\tvalid_0's rmse: 103.255\tvalid_0's l2: 10661.6\n",
      "[9]\tvalid_0's rmse: 99.1064\tvalid_0's l2: 9822.07\n",
      "[10]\tvalid_0's rmse: 95.4278\tvalid_0's l2: 9106.46\n",
      "[11]\tvalid_0's rmse: 91.9335\tvalid_0's l2: 8451.78\n",
      "[12]\tvalid_0's rmse: 88.5862\tvalid_0's l2: 7847.52\n",
      "[13]\tvalid_0's rmse: 85.5227\tvalid_0's l2: 7314.14\n",
      "[14]\tvalid_0's rmse: 82.6334\tvalid_0's l2: 6828.28\n",
      "[15]\tvalid_0's rmse: 79.9964\tvalid_0's l2: 6399.43\n",
      "[16]\tvalid_0's rmse: 77.7225\tvalid_0's l2: 6040.78\n",
      "[17]\tvalid_0's rmse: 75.6129\tvalid_0's l2: 5717.31\n",
      "[18]\tvalid_0's rmse: 73.5668\tvalid_0's l2: 5412.08\n",
      "[19]\tvalid_0's rmse: 71.6545\tvalid_0's l2: 5134.37\n",
      "[20]\tvalid_0's rmse: 69.5701\tvalid_0's l2: 4839.99\n",
      "[21]\tvalid_0's rmse: 67.7748\tvalid_0's l2: 4593.43\n",
      "[22]\tvalid_0's rmse: 65.8436\tvalid_0's l2: 4335.38\n",
      "[23]\tvalid_0's rmse: 64.1804\tvalid_0's l2: 4119.13\n",
      "[24]\tvalid_0's rmse: 62.5699\tvalid_0's l2: 3914.99\n",
      "[25]\tvalid_0's rmse: 61.0749\tvalid_0's l2: 3730.14\n",
      "[26]\tvalid_0's rmse: 59.6168\tvalid_0's l2: 3554.16\n",
      "[27]\tvalid_0's rmse: 58.2593\tvalid_0's l2: 3394.14\n",
      "[28]\tvalid_0's rmse: 56.8641\tvalid_0's l2: 3233.53\n",
      "[29]\tvalid_0's rmse: 55.646\tvalid_0's l2: 3096.48\n",
      "[30]\tvalid_0's rmse: 54.5406\tvalid_0's l2: 2974.68\n",
      "[31]\tvalid_0's rmse: 53.2825\tvalid_0's l2: 2839.02\n",
      "[32]\tvalid_0's rmse: 52.1579\tvalid_0's l2: 2720.44\n",
      "[33]\tvalid_0's rmse: 51.1118\tvalid_0's l2: 2612.41\n",
      "[34]\tvalid_0's rmse: 50.1402\tvalid_0's l2: 2514.04\n",
      "[35]\tvalid_0's rmse: 49.1712\tvalid_0's l2: 2417.8\n",
      "[36]\tvalid_0's rmse: 48.3078\tvalid_0's l2: 2333.65\n",
      "[37]\tvalid_0's rmse: 47.3542\tvalid_0's l2: 2242.42\n",
      "[38]\tvalid_0's rmse: 46.4658\tvalid_0's l2: 2159.07\n",
      "[39]\tvalid_0's rmse: 45.7392\tvalid_0's l2: 2092.07\n",
      "[40]\tvalid_0's rmse: 45.0005\tvalid_0's l2: 2025.04\n",
      "[41]\tvalid_0's rmse: 44.1733\tvalid_0's l2: 1951.28\n",
      "[42]\tvalid_0's rmse: 43.4714\tvalid_0's l2: 1889.76\n",
      "[43]\tvalid_0's rmse: 42.7719\tvalid_0's l2: 1829.44\n",
      "[44]\tvalid_0's rmse: 42.1089\tvalid_0's l2: 1773.16\n",
      "[45]\tvalid_0's rmse: 41.4139\tvalid_0's l2: 1715.11\n",
      "[46]\tvalid_0's rmse: 40.6975\tvalid_0's l2: 1656.29\n",
      "[47]\tvalid_0's rmse: 40.0643\tvalid_0's l2: 1605.14\n",
      "[48]\tvalid_0's rmse: 39.5432\tvalid_0's l2: 1563.66\n",
      "[49]\tvalid_0's rmse: 38.9801\tvalid_0's l2: 1519.45\n",
      "[50]\tvalid_0's rmse: 38.4133\tvalid_0's l2: 1475.58\n",
      "[51]\tvalid_0's rmse: 37.9128\tvalid_0's l2: 1437.38\n",
      "[52]\tvalid_0's rmse: 37.4966\tvalid_0's l2: 1406\n",
      "[53]\tvalid_0's rmse: 36.9895\tvalid_0's l2: 1368.23\n",
      "[54]\tvalid_0's rmse: 36.5036\tvalid_0's l2: 1332.52\n",
      "[55]\tvalid_0's rmse: 35.9989\tvalid_0's l2: 1295.92\n",
      "[56]\tvalid_0's rmse: 35.5226\tvalid_0's l2: 1261.86\n",
      "[57]\tvalid_0's rmse: 35.043\tvalid_0's l2: 1228.01\n",
      "[58]\tvalid_0's rmse: 34.6164\tvalid_0's l2: 1198.3\n",
      "[59]\tvalid_0's rmse: 34.1889\tvalid_0's l2: 1168.88\n",
      "[60]\tvalid_0's rmse: 33.7925\tvalid_0's l2: 1141.93\n",
      "[61]\tvalid_0's rmse: 33.4457\tvalid_0's l2: 1118.62\n",
      "[62]\tvalid_0's rmse: 33.1616\tvalid_0's l2: 1099.69\n",
      "[63]\tvalid_0's rmse: 32.8337\tvalid_0's l2: 1078.05\n",
      "[64]\tvalid_0's rmse: 32.5276\tvalid_0's l2: 1058.04\n",
      "[65]\tvalid_0's rmse: 32.1755\tvalid_0's l2: 1035.26\n",
      "[66]\tvalid_0's rmse: 31.8868\tvalid_0's l2: 1016.77\n",
      "[67]\tvalid_0's rmse: 31.549\tvalid_0's l2: 995.337\n",
      "[68]\tvalid_0's rmse: 31.2627\tvalid_0's l2: 977.353\n",
      "[69]\tvalid_0's rmse: 30.976\tvalid_0's l2: 959.513\n",
      "[70]\tvalid_0's rmse: 30.6947\tvalid_0's l2: 942.165\n",
      "[71]\tvalid_0's rmse: 30.4325\tvalid_0's l2: 926.135\n",
      "[72]\tvalid_0's rmse: 30.1536\tvalid_0's l2: 909.239\n",
      "[73]\tvalid_0's rmse: 29.9057\tvalid_0's l2: 894.351\n",
      "[74]\tvalid_0's rmse: 29.6533\tvalid_0's l2: 879.315\n",
      "[75]\tvalid_0's rmse: 29.407\tvalid_0's l2: 864.773\n",
      "[76]\tvalid_0's rmse: 29.1968\tvalid_0's l2: 852.452\n",
      "[77]\tvalid_0's rmse: 28.9831\tvalid_0's l2: 840.023\n",
      "[78]\tvalid_0's rmse: 28.7671\tvalid_0's l2: 827.547\n",
      "[79]\tvalid_0's rmse: 28.5655\tvalid_0's l2: 815.988\n",
      "[80]\tvalid_0's rmse: 28.3793\tvalid_0's l2: 805.385\n",
      "[81]\tvalid_0's rmse: 28.2048\tvalid_0's l2: 795.51\n",
      "[82]\tvalid_0's rmse: 28.012\tvalid_0's l2: 784.672\n",
      "[83]\tvalid_0's rmse: 27.8163\tvalid_0's l2: 773.744\n",
      "[84]\tvalid_0's rmse: 27.6091\tvalid_0's l2: 762.26\n",
      "[85]\tvalid_0's rmse: 27.4468\tvalid_0's l2: 753.325\n",
      "[86]\tvalid_0's rmse: 27.294\tvalid_0's l2: 744.963\n",
      "[87]\tvalid_0's rmse: 27.1278\tvalid_0's l2: 735.917\n",
      "[88]\tvalid_0's rmse: 26.974\tvalid_0's l2: 727.597\n",
      "[89]\tvalid_0's rmse: 26.796\tvalid_0's l2: 718.026\n",
      "[90]\tvalid_0's rmse: 26.682\tvalid_0's l2: 711.931\n",
      "[91]\tvalid_0's rmse: 26.5423\tvalid_0's l2: 704.494\n",
      "[92]\tvalid_0's rmse: 26.4182\tvalid_0's l2: 697.92\n",
      "[93]\tvalid_0's rmse: 26.3221\tvalid_0's l2: 692.854\n",
      "[94]\tvalid_0's rmse: 26.2261\tvalid_0's l2: 687.806\n",
      "[95]\tvalid_0's rmse: 26.0488\tvalid_0's l2: 678.542\n",
      "[96]\tvalid_0's rmse: 25.9636\tvalid_0's l2: 674.107\n",
      "[97]\tvalid_0's rmse: 25.8627\tvalid_0's l2: 668.881\n",
      "[98]\tvalid_0's rmse: 25.7726\tvalid_0's l2: 664.228\n",
      "[99]\tvalid_0's rmse: 25.6507\tvalid_0's l2: 657.96\n",
      "[100]\tvalid_0's rmse: 25.5317\tvalid_0's l2: 651.867\n",
      "Validation RMSE: 25.5317\n",
      "Validation R²: 0.9733\n",
      "\n",
      "Test RMSE: 26.7448\n",
      "Test R²: 0.9727\n"
     ]
    }
   ],
   "source": [
    "\n",
    "# Initialize LightGBM model\n",
    "model = LGBMRegressor(\n",
    "    n_estimators=100,\n",
    "    learning_rate=0.1,\n",
    "    max_depth=5,\n",
    "    num_leaves=31,\n",
    "    random_state=42\n",
    ")\n",
    "\n",
    "# Train the model\n",
    "model.fit(\n",
    "    X_train, y_train,\n",
    "    eval_set=[(X_val, y_val)],\n",
    "    eval_metric='rmse',\n",
    ")\n",
    "\n",
    "# Make predictions on validation set\n",
    "val_predictions = model.predict(X_val)\n",
    "\n",
    "# Evaluate the model\n",
    "val_rmse = np.sqrt(mean_squared_error(y_val, val_predictions))\n",
    "val_r2 = r2_score(y_val, val_predictions)\n",
    "\n",
    "print(f\"Validation RMSE: {val_rmse:.4f}\")\n",
    "print(f\"Validation R²: {val_r2:.4f}\")\n",
    "\n",
    "\n",
    "X_test = test_data.drop('target', axis=1)\n",
    "y_test = test_data['target']\n",
    "# Make predictions on test set\n",
    "test_predictions = model.predict(X_test)\n",
    "\n",
    "# Evaluate the model on test set\n",
    "test_rmse = np.sqrt(mean_squared_error(y_test, test_predictions))\n",
    "test_r2 = r2_score(y_test, test_predictions)\n",
    "\n",
    "print()\n",
    "print(f\"Test RMSE: {test_rmse:.4f}\")\n",
    "print(f\"Test R²: {test_r2:.4f}\")\n",
    "\n"
   ]
  },
  {
   "cell_type": "code",
   "execution_count": 4,
   "metadata": {},
   "outputs": [
    {
     "name": "stdout",
     "output_type": "stream",
     "text": [
      "Model saved as model.txt\n"
     ]
    }
   ],
   "source": [
    "#save the model\n",
    "model.booster_.save_model('model.txt')\n",
    "print(\"Model saved as model.txt\")"
   ]
  },
  {
   "cell_type": "code",
   "execution_count": 5,
   "metadata": {},
   "outputs": [
    {
     "name": "stdout",
     "output_type": "stream",
     "text": [
      "\n",
      "Test RMSE: 26.7448\n",
      "Test R²: 0.9727\n"
     ]
    }
   ],
   "source": [
    "model2 = Booster(\n",
    "    model_file='model.txt'\n",
    ")\n",
    "\n",
    "X_test = test_data.drop('target', axis=1)\n",
    "y_test = test_data['target']\n",
    "# Make predictions on test set\n",
    "test_predictions = model2.predict(X_test)\n",
    "\n",
    "# Evaluate the model\n",
    "test_rmse = np.sqrt(mean_squared_error(y_test, test_predictions))\n",
    "test_r2 = r2_score(y_test, test_predictions)\n",
    "\n",
    "print()\n",
    "print(f\"Test RMSE: {test_rmse:.4f}\")\n",
    "print(f\"Test R²: {test_r2:.4f}\")\n",
    "\n"
   ]
  }
 ],
 "metadata": {
  "kernelspec": {
   "display_name": "Python 3",
   "language": "python",
   "name": "python3"
  },
  "language_info": {
   "codemirror_mode": {
    "name": "ipython",
    "version": 3
   },
   "file_extension": ".py",
   "mimetype": "text/x-python",
   "name": "python",
   "nbconvert_exporter": "python",
   "pygments_lexer": "ipython3",
   "version": "3.11.11"
  }
 },
 "nbformat": 4,
 "nbformat_minor": 2
}
